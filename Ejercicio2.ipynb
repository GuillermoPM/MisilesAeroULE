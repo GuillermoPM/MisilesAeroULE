{
 "cells": [
  {
   "cell_type": "markdown",
   "metadata": {},
   "source": [
    "# Ejercicio 2\n",
    "Para la misma carga de pago y velocidad final, dimensione un lanzador de tres etapas\n",
    "bajo la hipótesis de *restricted staging*."
   ]
  },
  {
   "cell_type": "code",
   "execution_count": 3,
   "metadata": {},
   "outputs": [],
   "source": [
    "import numpy as np\n",
    "import pandas as pd\n",
    "\n",
    "mpl = 2000                  #masa carga de pago (kg)\n",
    "v = 7800                    #velocidad en el apagado (m/s)\n",
    "Is = 330                    #impulso específico (s)\n",
    "epsilon = 0.15              #fracción estructural\n",
    "g = 9.81                    #gravedad (m/s^2)\n",
    "\n",
    "n = np.exp(v/(3*Is*g))\n",
    "pi_pl = ((1/n-epsilon)/(1-epsilon))**3\n",
    "\n",
    "# Masas totales\n",
    "m0 = mpl/pi_pl\n",
    "m02 = mpl/pi_pl**(2/3)\n",
    "m03 = mpl/pi_pl**(1/3)\n",
    "\n",
    "# Masas en vacio\n",
    "mE1 = epsilon*(m0-m02)\n",
    "mE2 = epsilon*(m02-m03)\n",
    "mE3 = epsilon*(m03-mpl)\n",
    "\n",
    "# Masas de propelente\n",
    "mP1 = m0-mE1-m02\n",
    "mP2 = m02-mE2-m03\n",
    "mP3 = m03-mE3-mpl"
   ]
  },
  {
   "cell_type": "code",
   "execution_count": 4,
   "metadata": {},
   "outputs": [
    {
     "data": {
      "text/html": [
       "<div>\n",
       "<style scoped>\n",
       "    .dataframe tbody tr th:only-of-type {\n",
       "        vertical-align: middle;\n",
       "    }\n",
       "\n",
       "    .dataframe tbody tr th {\n",
       "        vertical-align: top;\n",
       "    }\n",
       "\n",
       "    .dataframe thead th {\n",
       "        text-align: right;\n",
       "    }\n",
       "</style>\n",
       "<table border=\"1\" class=\"dataframe\">\n",
       "  <thead>\n",
       "    <tr style=\"text-align: right;\">\n",
       "      <th></th>\n",
       "      <th>m01</th>\n",
       "      <th>m02</th>\n",
       "      <th>m03</th>\n",
       "      <th>mE1</th>\n",
       "      <th>mE2</th>\n",
       "      <th>mE3</th>\n",
       "      <th>mP1</th>\n",
       "      <th>mP2</th>\n",
       "      <th>mP3</th>\n",
       "    </tr>\n",
       "  </thead>\n",
       "  <tbody>\n",
       "    <tr>\n",
       "      <th>0</th>\n",
       "      <td>46449.757798</td>\n",
       "      <td>16280.421119</td>\n",
       "      <td>5706.210848</td>\n",
       "      <td>4525.400502</td>\n",
       "      <td>1586.131541</td>\n",
       "      <td>555.931627</td>\n",
       "      <td>25643.936177</td>\n",
       "      <td>8988.078731</td>\n",
       "      <td>3150.279221</td>\n",
       "    </tr>\n",
       "  </tbody>\n",
       "</table>\n",
       "</div>"
      ],
      "text/plain": [
       "            m01           m02          m03          mE1          mE2  \\\n",
       "0  46449.757798  16280.421119  5706.210848  4525.400502  1586.131541   \n",
       "\n",
       "          mE3           mP1          mP2          mP3  \n",
       "0  555.931627  25643.936177  8988.078731  3150.279221  "
      ]
     },
     "execution_count": 4,
     "metadata": {},
     "output_type": "execute_result"
    }
   ],
   "source": [
    "solucion = pd.DataFrame([\n",
    "    (m0, m02, m03, mE1, mE2, mE3, mP1, mP2, mP3)],\n",
    "    columns=['m01', 'm02', 'm03', 'mE1', 'mE2', 'mE3','mP1','mP2', 'mP3'])\n",
    "    \n",
    "solucion"
   ]
  }
 ],
 "metadata": {
  "kernelspec": {
   "display_name": "Python 3.10.7 64-bit",
   "language": "python",
   "name": "python3"
  },
  "language_info": {
   "codemirror_mode": {
    "name": "ipython",
    "version": 3
   },
   "file_extension": ".py",
   "mimetype": "text/x-python",
   "name": "python",
   "nbconvert_exporter": "python",
   "pygments_lexer": "ipython3",
   "version": "3.10.7"
  },
  "orig_nbformat": 4,
  "vscode": {
   "interpreter": {
    "hash": "706268f09117497f137a575bee33cc7765c35aa2f134513e8c6ab3d896f92a03"
   }
  }
 },
 "nbformat": 4,
 "nbformat_minor": 2
}
