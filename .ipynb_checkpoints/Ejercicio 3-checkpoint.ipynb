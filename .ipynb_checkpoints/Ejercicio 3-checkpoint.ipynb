{
 "cells": [
  {
   "cell_type": "markdown",
   "metadata": {},
   "source": [
    "# Ejercicio 3"
   ]
  },
  {
   "cell_type": "markdown",
   "metadata": {},
   "source": [
    "Para una carga de pago de 2000 kg y una velocidad final de 7.8 km/s, determine la masa óptima de cada una de las tres etapas del vehículo lanzador. Se sabe que cada etapa puede construirse con las siguientes características.\n",
    "$$\n",
    "\\begin{array}{ccc}\n",
    "    \\hline\n",
    "            & I_s (s) & \\epsilon \\\\ \\hline\n",
    "    \\text{Etapa 1} & 315     & 0.10     \\\\\n",
    "    \\text{Etapa 2} & 330     & 0.15     \\\\\n",
    "    \\text{Etapa 3} & 345     & 0.20     \\\\ \\hline\n",
    "\\end{array}\n",
    "$$"
   ]
  },
  {
   "cell_type": "markdown",
   "metadata": {},
   "source": [
    "## Solución"
   ]
  },
  {
   "cell_type": "code",
   "execution_count": 1,
   "metadata": {},
   "outputs": [],
   "source": [
    "from numpy import log, around\n",
    "import pandas as pd\n",
    "from scipy import optimize\n",
    "from IPython.display import display\n",
    "\n",
    "g0 = 0.00981\t# Aceleración gravitatoria (m/s^2)\n",
    "mpl = 2000\t\t# Carga útil (kg)\n",
    "vbo = 7.8\t\t# Velocidad en el apagado (km/s)\n",
    "\n",
    "N = 3\t\t\t# Número de etapas\n",
    "\n",
    "datos_etapas = {\n",
    "\t\"Is\": [315, 330, 345],\n",
    "\t\"ε\": [0.10, 0.15, 0.20]\n",
    "}\n",
    "etapas = pd.DataFrame(datos_etapas, index=[\"etapa 1\", \"etapa 2\", \"etapa 3\"])"
   ]
  },
  {
   "cell_type": "markdown",
   "metadata": {},
   "source": [
    "Calculamos la velocidad de escape efectiva para cada etapa con la ecuación 11.21\n",
    "$$c = I_{sp}g_0$$"
   ]
  },
  {
   "cell_type": "code",
   "execution_count": 2,
   "metadata": {},
   "outputs": [],
   "source": [
    "etapas[\"ci\"] = etapas[\"Is\"] * g0"
   ]
  },
  {
   "cell_type": "markdown",
   "metadata": {},
   "source": [
    "Sustituimos la ecuación 11.86 para hallar el valor de $\\eta$ con el método de Newton.\n",
    "$$\\sum^N_{i=1} c_i \\ln\\frac{c_i\\eta-1}{c_i\\epsilon_i\\eta} = v_{bo}$$"
   ]
  },
  {
   "cell_type": "code",
   "execution_count": 3,
   "metadata": {},
   "outputs": [
    {
     "name": "stdout",
     "output_type": "stream",
     "text": [
      "0.45854916171160265\n"
     ]
    }
   ],
   "source": [
    "def f(η):\n",
    "    return(sum(ci * log((ci*η - 1) / (ci*ε*η)) for ε, ci in zip(etapas[\"ε\"], etapas[\"ci\"])) - vbo)\n",
    "\n",
    "η = optimize.newton(f, around(1/min(etapas[\"ci\"]), 3))\n",
    "print(η)"
   ]
  },
  {
   "cell_type": "markdown",
   "metadata": {},
   "source": [
    "Ahora calculamos las fracciones óptimas de masa para cada etapa con la ecuación 11.87.\n",
    "$$n_i = \\frac{c_i\\eta-1}{c_i\\epsilon_i\\eta}, \\quad i = 1, 2, \\dots, N$$"
   ]
  },
  {
   "cell_type": "code",
   "execution_count": 4,
   "metadata": {},
   "outputs": [],
   "source": [
    "n = [(ci*η-1) / (ci*ε*η) for ε, ci in zip(etapas[\"ε\"], etapas[\"ci\"])]\n",
    "\n",
    "etapas[\"n\"] = n"
   ]
  },
  {
   "cell_type": "markdown",
   "metadata": {},
   "source": [
    "Calculamos las masas individuales en cada etapa (_step mass_) con la ecuación 11.88.\n",
    "$$m_i = \\frac{n_i - 1}{1 - n_i\\epsilon_i} (m_{PL} + \\sum^{N-i}_{j=i+1}m_j)$$"
   ]
  },
  {
   "cell_type": "code",
   "execution_count": 5,
   "metadata": {},
   "outputs": [],
   "source": [
    "m_step = []\n",
    "\n",
    "for ε, n in zip(reversed(etapas[\"ε\"]), reversed(etapas[\"n\"])):\n",
    "    m_step.append((mpl+sum(m_step))*(n-1)/(1-n*ε))\n",
    "\n",
    "m_step = m_step[::-1]\n",
    "etapas[\"m step\"] = m_step"
   ]
  },
  {
   "cell_type": "markdown",
   "metadata": {},
   "source": [
    "Usando las ecuaciones 11.89 y 11.90 podemos calcular las masas en vacío y del propelente.\n",
    "$$m_{E_i} = \\epsilon_i m_i$$\n",
    "$$m_{p_i} = m_i - m_{E_i}$$"
   ]
  },
  {
   "cell_type": "code",
   "execution_count": 6,
   "metadata": {},
   "outputs": [],
   "source": [
    "etapas[\"m estr\"] = etapas[\"ε\"] * etapas[\"m step\"]\n",
    "etapas[\"m prop\"] = etapas[\"m step\"] - etapas[\"m estr\"]"
   ]
  },
  {
   "cell_type": "markdown",
   "metadata": {},
   "source": [
    "Calculamos las fracciones de carga para cada etapa.\n",
    "$$\\lambda_i = \\frac{m_{PL} + \\sum^{N-i}_{j=i+1}m_j}{m_i}$$"
   ]
  },
  {
   "cell_type": "code",
   "execution_count": 7,
   "metadata": {},
   "outputs": [],
   "source": [
    "λ = [(mpl + sum(etapas[\"m step\"].to_list()) - sum(etapas[\"m step\"].to_list()[:i+1]))/m for i, m in enumerate(etapas[\"m step\"])]\n",
    "etapas[\"λ\"] = λ"
   ]
  },
  {
   "cell_type": "markdown",
   "metadata": {},
   "source": [
    "La masa total del vehículo es la suma de las masas de cada etapa y la masa de la carga útil.\n",
    "$$m_0 = m_{PL} + \\sum^N_{i=1}m_i$$"
   ]
  },
  {
   "cell_type": "code",
   "execution_count": 8,
   "metadata": {},
   "outputs": [],
   "source": [
    "m0 = sum(etapas[\"m step\"]) + mpl"
   ]
  },
  {
   "cell_type": "markdown",
   "metadata": {},
   "source": [
    "La fracción de carga de todo el vehículo es\n",
    "$$\\pi_{PL} = \\frac{m_{PL}}{m_0}$$"
   ]
  },
  {
   "cell_type": "code",
   "execution_count": 9,
   "metadata": {},
   "outputs": [],
   "source": [
    "πpl = mpl / m0"
   ]
  },
  {
   "cell_type": "markdown",
   "metadata": {},
   "source": [
    "Para que $h$ en la ecuación 11.85 sea mínimo en las fracciones de masa $n_i$, $\\text{d}^2h > 0$.\n",
    "$$\\eta c_i(\\epsilon_i n_i - 1)^2 + 2\\epsilon_i n_i - 1 > 0, \\quad i = 1,\\dots,N$$"
   ]
  },
  {
   "cell_type": "code",
   "execution_count": 10,
   "metadata": {},
   "outputs": [
    {
     "data": {
      "text/plain": [
       "True"
      ]
     },
     "execution_count": 10,
     "metadata": {},
     "output_type": "execute_result"
    }
   ],
   "source": [
    "all([(η*c*(ε*n-1)**2 + 2*ε*n - 1) > 0 for c, ε, n in zip(etapas[\"ci\"], etapas[\"ε\"], etapas[\"n\"])])"
   ]
  },
  {
   "cell_type": "markdown",
   "metadata": {},
   "source": [
    "Mostramos todos los datos calculados."
   ]
  },
  {
   "cell_type": "code",
   "execution_count": 11,
   "metadata": {},
   "outputs": [
    {
     "data": {
      "text/html": [
       "<div>\n",
       "<style scoped>\n",
       "    .dataframe tbody tr th:only-of-type {\n",
       "        vertical-align: middle;\n",
       "    }\n",
       "\n",
       "    .dataframe tbody tr th {\n",
       "        vertical-align: top;\n",
       "    }\n",
       "\n",
       "    .dataframe thead th {\n",
       "        text-align: right;\n",
       "    }\n",
       "</style>\n",
       "<table border=\"1\" class=\"dataframe\">\n",
       "  <thead>\n",
       "    <tr style=\"text-align: right;\">\n",
       "      <th></th>\n",
       "      <th>Is</th>\n",
       "      <th>ε</th>\n",
       "      <th>ci</th>\n",
       "      <th>n</th>\n",
       "      <th>m step</th>\n",
       "      <th>m estr</th>\n",
       "      <th>m prop</th>\n",
       "      <th>λ</th>\n",
       "    </tr>\n",
       "  </thead>\n",
       "  <tbody>\n",
       "    <tr>\n",
       "      <th>etapa 1</th>\n",
       "      <td>315</td>\n",
       "      <td>0.10</td>\n",
       "      <td>3.09015</td>\n",
       "      <td>2.942766</td>\n",
       "      <td>33369.663935</td>\n",
       "      <td>3336.966393</td>\n",
       "      <td>30032.697541</td>\n",
       "      <td>0.363257</td>\n",
       "    </tr>\n",
       "    <tr>\n",
       "      <th>etapa 2</th>\n",
       "      <td>330</td>\n",
       "      <td>0.15</td>\n",
       "      <td>3.23730</td>\n",
       "      <td>2.175699</td>\n",
       "      <td>7706.273434</td>\n",
       "      <td>1155.941015</td>\n",
       "      <td>6550.332419</td>\n",
       "      <td>0.572974</td>\n",
       "    </tr>\n",
       "    <tr>\n",
       "      <th>etapa 3</th>\n",
       "      <td>345</td>\n",
       "      <td>0.20</td>\n",
       "      <td>3.38445</td>\n",
       "      <td>1.778219</td>\n",
       "      <td>2415.493683</td>\n",
       "      <td>483.098737</td>\n",
       "      <td>1932.394946</td>\n",
       "      <td>0.827988</td>\n",
       "    </tr>\n",
       "  </tbody>\n",
       "</table>\n",
       "</div>"
      ],
      "text/plain": [
       "          Is     ε       ci         n        m step       m estr  \\\n",
       "etapa 1  315  0.10  3.09015  2.942766  33369.663935  3336.966393   \n",
       "etapa 2  330  0.15  3.23730  2.175699   7706.273434  1155.941015   \n",
       "etapa 3  345  0.20  3.38445  1.778219   2415.493683   483.098737   \n",
       "\n",
       "               m prop         λ  \n",
       "etapa 1  30032.697541  0.363257  \n",
       "etapa 2   6550.332419  0.572974  \n",
       "etapa 3   1932.394946  0.827988  "
      ]
     },
     "metadata": {},
     "output_type": "display_data"
    },
    {
     "name": "stdout",
     "output_type": "stream",
     "text": [
      "Masa total del vehículo (m_0): 45491.43 kg \n",
      "Fracción de carga útil (π_pl): 0.0440\n"
     ]
    }
   ],
   "source": [
    "display(etapas)\n",
    "print(f\"Masa total del vehículo (m_0): {m0:.2f} kg \\nFracción de carga útil (π_pl): {πpl:.4f}\")"
   ]
  }
 ],
 "metadata": {
  "kernelspec": {
   "display_name": "Python 3",
   "language": "python",
   "name": "python3"
  },
  "language_info": {
   "codemirror_mode": {
    "name": "ipython",
    "version": 3
   },
   "file_extension": ".py",
   "mimetype": "text/x-python",
   "name": "python",
   "nbconvert_exporter": "python",
   "pygments_lexer": "ipython3",
   "version": "3.7.10"
  },
  "vscode": {
   "interpreter": {
    "hash": "f18bce44cef041eff470df28f95b88580185911da71baaa2bd01c015bd4950ed"
   }
  }
 },
 "nbformat": 4,
 "nbformat_minor": 2
}
